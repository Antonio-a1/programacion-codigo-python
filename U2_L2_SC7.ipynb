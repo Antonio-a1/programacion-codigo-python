{
 "cells": [
  {
   "cell_type": "markdown",
   "metadata": {},
   "source": [
    "### Unidad 2 - Lección 2: *Iteraciones*\n",
    "\n",
    "Iterando ando (for): Utilización del _for_ sobre listas, rangos y errores comunes"
   ]
  },
  {
   "cell_type": "code",
   "execution_count": null,
   "metadata": {},
   "outputs": [],
   "source": [
    "# print all letters of a string\n",
    "str_name = 'ecode.dev'\n",
    "for letter in str_name:\n",
    "  print(letter)"
   ]
  },
  {
   "cell_type": "code",
   "execution_count": null,
   "metadata": {},
   "outputs": [],
   "source": [
    "# print all items of a list\n",
    "list_names = ['Recuerda', 'entrar', 'al', 'Discord']\n",
    "for word in list_names:\n",
    "  print(word)"
   ]
  },
  {
   "cell_type": "code",
   "execution_count": null,
   "metadata": {},
   "outputs": [],
   "source": [
    "# print all letters of each word of a list\n",
    "list_names = ['Recuerda', 'entrar', 'al', 'Discord']\n",
    "for word in list_names:\n",
    "  for letter in word:\n",
    "    print(letter)\n",
    "  print()"
   ]
  },
  {
   "cell_type": "code",
   "execution_count": null,
   "metadata": {
    "scrolled": true
   },
   "outputs": [],
   "source": [
    "# print integer values from a list\n",
    "for x in [0, 1, 2, 3]:  # list\n",
    "  print(x)"
   ]
  },
  {
   "cell_type": "code",
   "execution_count": null,
   "metadata": {
    "scrolled": true
   },
   "outputs": [],
   "source": [
    "# print all integers from a range object\n",
    "for x in range(4):  # range\n",
    "  print(x)"
   ]
  },
  {
   "cell_type": "code",
   "execution_count": null,
   "metadata": {
    "scrolled": true
   },
   "outputs": [],
   "source": [
    "# print all integers from a range object using an step of 2\n",
    "for x in range(0, 10, 2):\n",
    "  print(x)"
   ]
  },
  {
   "cell_type": "markdown",
   "metadata": {},
   "source": [
    "**Interrumpiendo el ciclo usando el _break_ y _continue_**"
   ]
  },
  {
   "cell_type": "code",
   "execution_count": null,
   "metadata": {
    "scrolled": true
   },
   "outputs": [],
   "source": [
    "# using the break after a print\n",
    "for x in range(0, 10, 2):\n",
    "  print(x)\n",
    "  if x == 4:\n",
    "    break"
   ]
  },
  {
   "cell_type": "code",
   "execution_count": null,
   "metadata": {},
   "outputs": [],
   "source": [
    "# using the break before a print\n",
    "for x in range(0, 10, 2):\n",
    "  if x == 4:\n",
    "    break\n",
    "  print(x)"
   ]
  },
  {
   "cell_type": "code",
   "execution_count": null,
   "metadata": {},
   "outputs": [],
   "source": [
    "# create a list of names (str)\n",
    "list_names = ['Practica', 'y', 'compila', 'tu', 'código']"
   ]
  },
  {
   "cell_type": "code",
   "execution_count": null,
   "metadata": {
    "scrolled": true
   },
   "outputs": [],
   "source": [
    "# using the continue and the in keyword\n",
    "for word in list_names:\n",
    "  if 'a' in word:\n",
    "    continue\n",
    "  print(word)"
   ]
  },
  {
   "cell_type": "markdown",
   "metadata": {},
   "source": [
    "**Con el _for_ también existe la sentencia _else_**"
   ]
  },
  {
   "cell_type": "code",
   "execution_count": null,
   "metadata": {},
   "outputs": [],
   "source": [
    "# using the else in a simple for (complete)\n",
    "for word in list_names:\n",
    "  print(word)\n",
    "else:\n",
    "  print('Fin')"
   ]
  },
  {
   "cell_type": "code",
   "execution_count": null,
   "metadata": {},
   "outputs": [],
   "source": [
    "# using the else in a simple for (incomplete)\n",
    "for word in list_names:\n",
    "  if 'y' in word:\n",
    "    break\n",
    "  print(word)\n",
    "else:\n",
    "  print('Fin')"
   ]
  },
  {
   "cell_type": "markdown",
   "metadata": {},
   "source": [
    "**Utilizando el _range_ junto al _for_**"
   ]
  },
  {
   "cell_type": "code",
   "execution_count": null,
   "metadata": {},
   "outputs": [],
   "source": [
    "# create a for-range from 0 to 10 with a -1 step\n",
    "for index in range(0, 10, -1):\n",
    "  print(index)"
   ]
  },
  {
   "cell_type": "code",
   "execution_count": null,
   "metadata": {},
   "outputs": [],
   "source": [
    "# create a for-range to print values in reverse\n",
    "for index in range(10, 1, -1):\n",
    "  print(index)"
   ]
  },
  {
   "cell_type": "code",
   "execution_count": null,
   "metadata": {},
   "outputs": [],
   "source": [
    "# printing values from a list using slicing\n",
    "list_nums = [0, 1, 2, 3, 4, 5, 6, 7, 8, 9, 10]\n",
    "list_sub = list_nums[2:8]\n",
    "for index in list_sub:\n",
    "  print(index)"
   ]
  },
  {
   "cell_type": "code",
   "execution_count": null,
   "metadata": {},
   "outputs": [],
   "source": [
    "# copy the multiplication table exercise from while\n",
    "value_i = 1\n",
    "value_j = 1\n",
    "\n",
    "while value_i <= 10:\n",
    "  while value_j <= 10:\n",
    "    print(f'{value_i}x{value_j} = {value_i*value_j}')\n",
    "    value_j += 1\n",
    "  value_j = 1\n",
    "  value_i += 1"
   ]
  },
  {
   "cell_type": "code",
   "execution_count": null,
   "metadata": {},
   "outputs": [],
   "source": [
    "# to code the multiplication table exercise using the for\n",
    "for value_i in range(1, 13):\n",
    "  for value_j in range(1, 13):\n",
    "    print(f'{value_i}x{value_j} = {value_i*value_j}')"
   ]
  },
  {
   "cell_type": "code",
   "execution_count": null,
   "metadata": {},
   "outputs": [],
   "source": [
    "# adding values into a list using append\n",
    "list_values = []\n",
    "\n",
    "for value in range(20):\n",
    "  list_values.append(pow(value, 3))\n",
    "\n",
    "print(list_values)"
   ]
  }
 ],
 "metadata": {
  "kernelspec": {
   "display_name": "Python 3",
   "language": "python",
   "name": "python3"
  },
  "language_info": {
   "codemirror_mode": {
    "name": "ipython",
    "version": 3
   },
   "file_extension": ".py",
   "mimetype": "text/x-python",
   "name": "python",
   "nbconvert_exporter": "python",
   "pygments_lexer": "ipython3",
   "version": "3.8.5"
  }
 },
 "nbformat": 4,
 "nbformat_minor": 4
}
