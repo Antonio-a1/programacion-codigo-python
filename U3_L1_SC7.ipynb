{
 "cells": [
  {
   "cell_type": "markdown",
   "metadata": {},
   "source": [
    "### Unidad 3 - Lección 1: *Hablemos de funciones*\n",
    "\n",
    "Funcionando con funciones: Un poco más de funciones, y alcance de las variables"
   ]
  },
  {
   "cell_type": "code",
   "execution_count": null,
   "metadata": {},
   "outputs": [],
   "source": [
    "# función de <Unidad 2 - Lección 3>: Colecciones e Iteraciones\n",
    "# Note: this function only display the image on Jupyter notebook\n",
    "from urllib.request import urlopen\n",
    "from PIL import Image\n",
    "\n",
    "def display_image(url):\n",
    "  \"\"\"\n",
    "  Input: an URL address\n",
    "  Return: a PIL image file\n",
    "  \"\"\"\n",
    "  im = Image.open(urlopen(url))\n",
    "  return im"
   ]
  },
  {
   "cell_type": "markdown",
   "metadata": {},
   "source": [
    "[Dog API](https://dog.ceo/dog-api/) es ¡una larga colección de fotos de perros!\n",
    "\n",
    "Un ejemplo de cómo retorna la información el API:\n",
    "\n",
    "`\n",
    "{\n",
    "    \"message\": \"https://images.dog.ceo/breeds/terrier-norwich/n02094258_166.jpg\",\n",
    "    \"status\": \"success\"\n",
    "}\n",
    "`\n",
    "\n",
    "URL del API: https://dog.ceo/api/breeds/image/random"
   ]
  },
  {
   "cell_type": "code",
   "execution_count": null,
   "metadata": {},
   "outputs": [],
   "source": [
    "# function to get a JSON from address\n",
    "import requests\n",
    "\n",
    "def get_JSON(api_url):\n",
    "  \"\"\"\n",
    "  Input: an URL address\n",
    "  Return: JSON format of the requested address\n",
    "  Note: Function does not verify the server code also the format of the URL\n",
    "  \"\"\"\n",
    "  return requests.get(api_url).json()"
   ]
  },
  {
   "cell_type": "code",
   "execution_count": null,
   "metadata": {},
   "outputs": [],
   "source": [
    "# use the Dog API\n",
    "api_dog = 'https://dog.ceo/api/breeds/image/random'\n",
    "dog_photo = get_JSON(api_dog)['message']"
   ]
  },
  {
   "cell_type": "code",
   "execution_count": null,
   "metadata": {},
   "outputs": [],
   "source": [
    "# show me the type\n",
    "type(display_image(dog_photo))"
   ]
  },
  {
   "cell_type": "code",
   "execution_count": null,
   "metadata": {},
   "outputs": [],
   "source": [
    "# in this way works on different IDE than Jupyter\n",
    "display_image(dog_photo).show()"
   ]
  },
  {
   "cell_type": "code",
   "execution_count": null,
   "metadata": {},
   "outputs": [],
   "source": [
    "# re-define the display image (just for viewing purposes)\n",
    "# función de <Unidad 2 - Lección 3>: Colecciones e Iteraciones\n",
    "from urllib.request import urlopen\n",
    "from PIL import Image\n",
    "\n",
    "def display_image(url):\n",
    "  \"\"\"\n",
    "  Input: an URL address\n",
    "  Return: a PIL image file\n",
    "  \"\"\"\n",
    "  im = Image.open(urlopen(url))\n",
    "  return im"
   ]
  },
  {
   "cell_type": "code",
   "execution_count": null,
   "metadata": {},
   "outputs": [],
   "source": [
    "# get the image located in display_image function and display it\n",
    "display_image(dog_photo)"
   ]
  },
  {
   "cell_type": "code",
   "execution_count": null,
   "metadata": {},
   "outputs": [],
   "source": [
    "im"
   ]
  },
  {
   "cell_type": "code",
   "execution_count": null,
   "metadata": {},
   "outputs": [],
   "source": [
    "im = get_JSON(api_dog)['message']\n",
    "display_image(im)"
   ]
  },
  {
   "cell_type": "code",
   "execution_count": null,
   "metadata": {},
   "outputs": [],
   "source": [
    "# python interpreter stores the last expression value to the special variable called _\n",
    "dogs = []\n",
    "for _ in range(3):\n",
    "  dogs.append(get_JSON(api_dog)['message'])"
   ]
  },
  {
   "cell_type": "code",
   "execution_count": null,
   "metadata": {},
   "outputs": [],
   "source": [
    "display_image(dogs[0])"
   ]
  },
  {
   "cell_type": "code",
   "execution_count": null,
   "metadata": {},
   "outputs": [],
   "source": [
    "display_image(dogs[1])"
   ]
  },
  {
   "cell_type": "code",
   "execution_count": null,
   "metadata": {},
   "outputs": [],
   "source": [
    "display_image(dogs[2])"
   ]
  },
  {
   "cell_type": "code",
   "execution_count": null,
   "metadata": {},
   "outputs": [],
   "source": [
    "display_image(dogs[_])"
   ]
  },
  {
   "cell_type": "code",
   "execution_count": null,
   "metadata": {},
   "outputs": [],
   "source": [
    "# re-define the display image\n",
    "# función de <Unidad 2 - Lección 3>: Colecciones e Iteraciones\n",
    "from urllib.request import urlopen\n",
    "from PIL import Image\n",
    "\n",
    "def display_image(url):\n",
    "  \"\"\"\n",
    "  Input: an URL address\n",
    "  Return: a PIL image file\n",
    "  \"\"\"\n",
    "  global im\n",
    "  im = Image.open(urlopen(url))\n",
    "  return im"
   ]
  },
  {
   "cell_type": "code",
   "execution_count": null,
   "metadata": {},
   "outputs": [],
   "source": [
    "display_image(dogs[1])"
   ]
  },
  {
   "cell_type": "code",
   "execution_count": null,
   "metadata": {},
   "outputs": [],
   "source": [
    "im"
   ]
  },
  {
   "cell_type": "code",
   "execution_count": null,
   "metadata": {},
   "outputs": [],
   "source": [
    "# global scope, using outer and inner\n",
    "dog_photo = dogs[0]\n",
    "\n",
    "def outer():\n",
    "  # enclosed scope\n",
    "  dog_photo = dogs[1]\n",
    "  # local scope\n",
    "  def inner():\n",
    "    dog_photo = dogs[2]\n",
    "  inner()\n",
    "\n",
    "outer()"
   ]
  },
  {
   "cell_type": "code",
   "execution_count": null,
   "metadata": {},
   "outputs": [],
   "source": [
    "display_image(dog_photo)"
   ]
  },
  {
   "cell_type": "markdown",
   "metadata": {},
   "source": [
    "Se sigue la regla **LEGB (Local -> Enclosing -> Global -> Built-in)**\n",
    "\n",
    "![title](LEGB.png)"
   ]
  },
  {
   "cell_type": "code",
   "execution_count": null,
   "metadata": {},
   "outputs": [],
   "source": [
    "number = 0"
   ]
  },
  {
   "cell_type": "code",
   "execution_count": null,
   "metadata": {},
   "outputs": [],
   "source": [
    "# other example\n",
    "def example():\n",
    "  number = 1\n",
    "  print(f'example number es {number}')\n",
    "  def internal():\n",
    "    number = 2\n",
    "    print(f'internal number es {number}')\n",
    "  internal()"
   ]
  },
  {
   "cell_type": "code",
   "execution_count": null,
   "metadata": {},
   "outputs": [],
   "source": [
    "example()\n",
    "print(f'\\'real\\' number es {number}')"
   ]
  },
  {
   "cell_type": "code",
   "execution_count": null,
   "metadata": {},
   "outputs": [],
   "source": [
    "# delete number variable and try it again\n",
    "del number\n",
    "example()\n",
    "print(f'\\'real\\' number es {number}')"
   ]
  }
 ],
 "metadata": {
  "kernelspec": {
   "display_name": "Python 3",
   "language": "python",
   "name": "python3"
  },
  "language_info": {
   "codemirror_mode": {
    "name": "ipython",
    "version": 3
   },
   "file_extension": ".py",
   "mimetype": "text/x-python",
   "name": "python",
   "nbconvert_exporter": "python",
   "pygments_lexer": "ipython3",
   "version": "3.8.5"
  }
 },
 "nbformat": 4,
 "nbformat_minor": 4
}
