{
 "cells": [
  {
   "cell_type": "markdown",
   "metadata": {},
   "source": [
    "### Unidad 2 - Lección 1: *['L', 'I', 'S', 'T', 'A', 'S']*\n",
    "\n",
    "Más sobre las Listas: Numpy arrays, ordenando y combinando elementos, e _itertool_"
   ]
  },
  {
   "cell_type": "code",
   "execution_count": null,
   "metadata": {},
   "outputs": [],
   "source": [
    "# import numpy & create an array with numbers \n",
    "import numpy as np"
   ]
  },
  {
   "cell_type": "code",
   "execution_count": null,
   "metadata": {},
   "outputs": [],
   "source": [
    "# install numpy\n",
    "!pip install numpy"
   ]
  },
  {
   "cell_type": "code",
   "execution_count": null,
   "metadata": {},
   "outputs": [],
   "source": [
    "# a 1D array using numpy\n",
    "arr_numbers_1D = np.array([1, 2, 2, 4])\n",
    "print(arr_numbers_1D)"
   ]
  },
  {
   "cell_type": "code",
   "execution_count": null,
   "metadata": {},
   "outputs": [],
   "source": [
    "# a 2D array using numpy\n",
    "arr_numbers_2D = np.array([(1, 2, 2, 4), (2, 3, 6, 18)])\n",
    "print(arr_numbers_2D)"
   ]
  },
  {
   "cell_type": "code",
   "execution_count": null,
   "metadata": {},
   "outputs": [],
   "source": [
    "# create a list of elements from 0 to 10 using the range function\n",
    "range_large = range(10)\n",
    "print(type(range_large), range_large)"
   ]
  },
  {
   "cell_type": "code",
   "execution_count": null,
   "metadata": {},
   "outputs": [],
   "source": [
    "list_large = list(range_large)\n",
    "print(list_large, type(list_large))"
   ]
  },
  {
   "cell_type": "code",
   "execution_count": null,
   "metadata": {},
   "outputs": [],
   "source": [
    "# create a numpy array from the list\n",
    "arr_large = np.array(list_large)"
   ]
  },
  {
   "cell_type": "code",
   "execution_count": null,
   "metadata": {},
   "outputs": [],
   "source": [
    "# print the list and the numpy array\n",
    "print(list_large), print(arr_large)"
   ]
  },
  {
   "cell_type": "code",
   "execution_count": null,
   "metadata": {},
   "outputs": [],
   "source": [
    "# operator + over the list\n",
    "list_large = list_large + 10\n",
    "list_large"
   ]
  },
  {
   "cell_type": "code",
   "execution_count": null,
   "metadata": {},
   "outputs": [],
   "source": [
    "# operator + over the numpy array\n",
    "arr_large = arr_large + 10\n",
    "arr_large"
   ]
  },
  {
   "cell_type": "markdown",
   "metadata": {},
   "source": [
    "#### Ordenando elementos"
   ]
  },
  {
   "cell_type": "markdown",
   "metadata": {},
   "source": [
    "Es posible ordenar los elementos de una lista empleando la función `sort( )` y `sorted( )`. La primera lo ordena y modifica la lista en cuestión, la segunda _devuelve_ o _retorna_ la lista ordenada como una variable "
   ]
  },
  {
   "cell_type": "code",
   "execution_count": null,
   "metadata": {},
   "outputs": [],
   "source": [
    "# create a list of names\n",
    "arr_names = ['Rafael', 'Ana', 'Sebástian', 'Orianna']"
   ]
  },
  {
   "cell_type": "code",
   "execution_count": null,
   "metadata": {},
   "outputs": [],
   "source": [
    "# using the function sorted on list & print it out\n",
    "sorted(arr_names)\n",
    "arr_names"
   ]
  },
  {
   "cell_type": "code",
   "execution_count": null,
   "metadata": {},
   "outputs": [],
   "source": [
    "print(sorted(arr_names))"
   ]
  },
  {
   "cell_type": "code",
   "execution_count": null,
   "metadata": {},
   "outputs": [],
   "source": [
    "# using the function sort on list & print it out\n",
    "arr_names.sort()\n",
    "arr_names"
   ]
  },
  {
   "cell_type": "code",
   "execution_count": null,
   "metadata": {},
   "outputs": [],
   "source": [
    "# order the list in descending way\n",
    "arr_names.sort(reverse=True)\n",
    "arr_names"
   ]
  },
  {
   "cell_type": "code",
   "execution_count": null,
   "metadata": {},
   "outputs": [],
   "source": [
    "# print names using the join function for a string\n",
    "str_names = \"**\".join(arr_names)\n",
    "print(f'Nombres son: {str_names}')"
   ]
  },
  {
   "cell_type": "code",
   "execution_count": null,
   "metadata": {},
   "outputs": [],
   "source": [
    "type(str_names)"
   ]
  },
  {
   "cell_type": "markdown",
   "metadata": {},
   "source": [
    "#### Combinando elementos"
   ]
  },
  {
   "cell_type": "code",
   "execution_count": null,
   "metadata": {},
   "outputs": [],
   "source": [
    "# create two lists: one of number and one of names\n",
    "list_numbers = [1, 2, 3, 4]\n",
    "list_names = ['Julio', 'Rosa', 'Ariel', 'Lorena']"
   ]
  },
  {
   "cell_type": "code",
   "execution_count": null,
   "metadata": {},
   "outputs": [],
   "source": [
    "# use the zip function to combine them\n",
    "list_combined = zip(list_numbers, list_names)\n",
    "print(type(list_combined))"
   ]
  },
  {
   "cell_type": "code",
   "execution_count": null,
   "metadata": {},
   "outputs": [],
   "source": [
    "# convert the zip object to list object\n",
    "list_combined = list(list_combined)\n",
    "print(list_combined)"
   ]
  },
  {
   "cell_type": "markdown",
   "metadata": {},
   "source": [
    "#### [Itertools](https://docs.python.org/3/library/itertools.html)\n",
    "\n",
    "Está compuesto por funciones que crean código rápido, eficiente en memoria, y de _buen aspecto_.\n",
    "Según la documentación, itertools permite construir bloques de _iteradores_"
   ]
  },
  {
   "cell_type": "code",
   "execution_count": null,
   "metadata": {},
   "outputs": [],
   "source": [
    "# create a list_iterator object\n",
    "iter([1, 2, 3, 4])"
   ]
  },
  {
   "cell_type": "code",
   "execution_count": null,
   "metadata": {},
   "outputs": [],
   "source": [
    "# create two lists: one of five numbers and other of 3 letters\n",
    "list_numbers = [1, 2, 3, 4, 5]\n",
    "list_letters = ['a', 'b', 'c']"
   ]
  },
  {
   "cell_type": "code",
   "execution_count": null,
   "metadata": {},
   "outputs": [],
   "source": [
    "# use the zip function to combine them\n",
    "list_combined = zip(list_numbers, list_letters)\n",
    "print(list(list_combined))"
   ]
  },
  {
   "cell_type": "code",
   "execution_count": null,
   "metadata": {},
   "outputs": [],
   "source": [
    "# import the itertools module\n",
    "import itertools as it"
   ]
  },
  {
   "cell_type": "code",
   "execution_count": null,
   "metadata": {},
   "outputs": [],
   "source": [
    "# combine the two previous defined lists\n",
    "list(it.zip_longest(list_numbers, list_letters))"
   ]
  },
  {
   "cell_type": "code",
   "execution_count": null,
   "metadata": {},
   "outputs": [],
   "source": [
    "# None is a complex object\n",
    "type(None), print()"
   ]
  },
  {
   "cell_type": "code",
   "execution_count": null,
   "metadata": {},
   "outputs": [],
   "source": [
    "# create a list from a range and permute it\n",
    "list_example = list(range(3))\n",
    "list_example"
   ]
  },
  {
   "cell_type": "code",
   "execution_count": null,
   "metadata": {},
   "outputs": [],
   "source": [
    "list(it.permutations(list_example))"
   ]
  },
  {
   "cell_type": "code",
   "execution_count": null,
   "metadata": {},
   "outputs": [],
   "source": [
    "# print & permute the two lists\n",
    "list_numbers, list_letters"
   ]
  },
  {
   "cell_type": "code",
   "execution_count": null,
   "metadata": {},
   "outputs": [],
   "source": [
    "list_product = list(it.product(list_numbers, list_letters))\n",
    "list_product"
   ]
  }
 ],
 "metadata": {
  "kernelspec": {
   "display_name": "Python 3",
   "language": "python",
   "name": "python3"
  },
  "language_info": {
   "codemirror_mode": {
    "name": "ipython",
    "version": 3
   },
   "file_extension": ".py",
   "mimetype": "text/x-python",
   "name": "python",
   "nbconvert_exporter": "python",
   "pygments_lexer": "ipython3",
   "version": "3.8.5"
  }
 },
 "nbformat": 4,
 "nbformat_minor": 4
}
