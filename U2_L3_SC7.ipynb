{
 "cells": [
  {
   "cell_type": "markdown",
   "metadata": {},
   "source": [
    "### Unidad 2 - Lección 3: *Colecciones e Iteraciones*\n",
    "\n",
    "Diccionarios y APIs: Aplicando diccionarios en ambientes reales _(y con Pokémons)_"
   ]
  },
  {
   "cell_type": "markdown",
   "metadata": {},
   "source": [
    "**¡Instagram!**"
   ]
  },
  {
   "cell_type": "markdown",
   "metadata": {},
   "source": [
    "[Webbrowser](https://docs.python.org/2/library/webbrowser.html) es un módulo que permite deplegar documentos basados en la Web"
   ]
  },
  {
   "cell_type": "code",
   "execution_count": null,
   "metadata": {},
   "outputs": [],
   "source": [
    "import webbrowser\n",
    "\n",
    "account = 'ecode.dev'\n",
    "instagram = f'https://www.instagram.com/{account}'\n",
    "webbrowser.open(instagram)\n",
    "print(instagram)"
   ]
  },
  {
   "cell_type": "code",
   "execution_count": null,
   "metadata": {},
   "outputs": [],
   "source": [
    "url_instagram = f'{instagram}/?__a=1'\n",
    "print(url_instagram)"
   ]
  },
  {
   "cell_type": "markdown",
   "metadata": {},
   "source": [
    "Requests es una biblioteca de HTTP (_Hypertext Transfer Protocol_) para Python (Apache License 2.0) que permite hacer las solicitudes HTTP de forma más simple y más _legible_ para los developers."
   ]
  },
  {
   "cell_type": "code",
   "execution_count": null,
   "metadata": {},
   "outputs": [],
   "source": [
    "import requests\n",
    "\n",
    "result = requests.get(url_instagram)\n",
    "print(result)"
   ]
  },
  {
   "cell_type": "markdown",
   "metadata": {},
   "source": [
    "![title](html-status-code.png) Tomado de la página https://www.steveschoger.com/status-code-poster/"
   ]
  },
  {
   "cell_type": "markdown",
   "metadata": {},
   "source": [
    "Convertir al formato [JSON (JavaScript Object Notation)](https://es.wikipedia.org/wiki/JSON)"
   ]
  },
  {
   "cell_type": "code",
   "execution_count": null,
   "metadata": {},
   "outputs": [],
   "source": [
    "ig_data = result.json()"
   ]
  },
  {
   "cell_type": "code",
   "execution_count": null,
   "metadata": {},
   "outputs": [],
   "source": [
    "# explore keys\n",
    "for key in ig_data.keys():\n",
    "  print(key)"
   ]
  },
  {
   "cell_type": "code",
   "execution_count": null,
   "metadata": {},
   "outputs": [],
   "source": [
    "# explore the graphql key\n",
    "for key in ig_data['graphql'].keys():\n",
    "  print(key)"
   ]
  },
  {
   "cell_type": "code",
   "execution_count": null,
   "metadata": {},
   "outputs": [],
   "source": [
    "# explore the user key\n",
    "for key in ig_data['graphql']['user'].keys():\n",
    "  print(key)"
   ]
  },
  {
   "cell_type": "code",
   "execution_count": null,
   "metadata": {},
   "outputs": [],
   "source": [
    "# extract something (e.g. biography)\n",
    "ig_data['graphql']['user']['biography']"
   ]
  },
  {
   "cell_type": "markdown",
   "metadata": {},
   "source": [
    "**Conocer el valor actual del Bitcoin**"
   ]
  },
  {
   "cell_type": "markdown",
   "metadata": {},
   "source": [
    "El sitio de noticias sobre blockchain [Coindesk](https://www.coindesk.com/) ofrece una [API](https://es.wikipedia.org/wiki/Interfaz_de_programaci%C3%B3n_de_aplicaciones) (Application Programming Interface) ubicada en https://www.coindesk.com/coindesk-api para obtener el _BPI (Bitcon Price Index)_"
   ]
  },
  {
   "cell_type": "code",
   "execution_count": null,
   "metadata": {},
   "outputs": [],
   "source": [
    "api_url_bitcoin = 'https://api.coindesk.com/v1/bpi/currentprice.json'\n",
    "result = requests.get(api_url_bitcoin)\n",
    "\n",
    "if result.status_code != requests.codes.OK:\n",
    "  print('something wrong happens!')\n",
    "else:\n",
    "  print('everything is OK!')"
   ]
  },
  {
   "cell_type": "code",
   "execution_count": null,
   "metadata": {},
   "outputs": [],
   "source": [
    "bitcoin_data = dict(result.json())"
   ]
  },
  {
   "cell_type": "code",
   "execution_count": null,
   "metadata": {},
   "outputs": [],
   "source": [
    "# print key, elements using items()\n",
    "for key, element in bitcoin_data.items():\n",
    "  print(f'key: {key}')\n",
    "  print(element)"
   ]
  },
  {
   "cell_type": "code",
   "execution_count": null,
   "metadata": {},
   "outputs": [],
   "source": [
    "# explore USD price into the bpi key\n",
    "bitcoin_data['bpi']['USD']"
   ]
  },
  {
   "cell_type": "code",
   "execution_count": null,
   "metadata": {},
   "outputs": [],
   "source": [
    "# get the rate\n",
    "rate_bitcoin = bitcoin_data['bpi']['USD']['rate']  # its type is str\n",
    "rate_bitcoin = float(rate_bitcoin.replace(',', ''))  # remove the comma\n",
    "print(rate_bitcoin)"
   ]
  },
  {
   "cell_type": "code",
   "execution_count": null,
   "metadata": {},
   "outputs": [],
   "source": [
    "# get a new price\n",
    "bitcoin_data = dict(requests.get(api_url_bitcoin).json())\n",
    "new_rate_bitcoin = float(bitcoin_data['bpi']['USD']['rate'].replace(',', ''))"
   ]
  },
  {
   "cell_type": "code",
   "execution_count": null,
   "metadata": {},
   "outputs": [],
   "source": [
    "# check if price go up or down\n",
    "difference = new_rate_bitcoin - rate_bitcoin\n",
    "print(f'cambio de {difference:+.2f}')"
   ]
  },
  {
   "cell_type": "markdown",
   "metadata": {},
   "source": [
    "**Ahora, un poco sobre Pokémons**"
   ]
  },
  {
   "cell_type": "markdown",
   "metadata": {},
   "source": [
    "En [PokéAPI](https://pokeapi.co/) podemos encontrar muchos **datos** sobre los Pokemons. Los datos son de acceso libre y se ofrece como una RESTful API (Representational state transfer):\n",
    "- REST es una arquitectura que se ejecuta sobre HTTP\n",
    "- RESTful hace referencia a un servicio web que implementa la arquitectura REST\n",
    "- Un servicio web es una tecnología que utiliza un conjunto de protocolos y estándares que sirven para intercambiar datos entre aplicaciones"
   ]
  },
  {
   "cell_type": "code",
   "execution_count": null,
   "metadata": {},
   "outputs": [],
   "source": [
    "# url api\n",
    "api_url_pokemon = 'https://pokeapi.co/api/v2/pokemon/pikachu'\n",
    "result = requests.get(api_url_pokemon)\n",
    "print(result)"
   ]
  },
  {
   "cell_type": "code",
   "execution_count": null,
   "metadata": {},
   "outputs": [],
   "source": [
    "# get the JSON data\n",
    "pokemon_data = result.json()"
   ]
  },
  {
   "cell_type": "code",
   "execution_count": null,
   "metadata": {},
   "outputs": [],
   "source": [
    "# explore keys\n",
    "for key in pokemon_data.keys():\n",
    "  print(key)"
   ]
  },
  {
   "cell_type": "code",
   "execution_count": null,
   "metadata": {},
   "outputs": [],
   "source": [
    "# key name\n",
    "pokemon_data['name']"
   ]
  },
  {
   "cell_type": "code",
   "execution_count": null,
   "metadata": {},
   "outputs": [],
   "source": [
    "# key moves\n",
    "pokemon_data['moves']"
   ]
  },
  {
   "cell_type": "code",
   "execution_count": null,
   "metadata": {},
   "outputs": [],
   "source": [
    "# key sprites\n",
    "pokemon_data['sprites']"
   ]
  },
  {
   "cell_type": "code",
   "execution_count": null,
   "metadata": {},
   "outputs": [],
   "source": [
    "# explore one sprite\n",
    "pokemon_data['sprites']['front_default']"
   ]
  },
  {
   "cell_type": "code",
   "execution_count": null,
   "metadata": {},
   "outputs": [],
   "source": [
    "# hold on, we will see this in the next lesson!\n",
    "from urllib.request import urlopen\n",
    "from PIL import Image\n",
    "\n",
    "def display_image(url):\n",
    "  im = Image.open(urlopen(url))\n",
    "  return im"
   ]
  },
  {
   "cell_type": "code",
   "execution_count": null,
   "metadata": {},
   "outputs": [],
   "source": [
    "# display an image\n",
    "url_image = pokemon_data['sprites']['other']['official-artwork']['front_default']\n",
    "\n",
    "image = display_image(url_image)\n",
    "image"
   ]
  }
 ],
 "metadata": {
  "kernelspec": {
   "display_name": "Python 3",
   "language": "python",
   "name": "python3"
  },
  "language_info": {
   "codemirror_mode": {
    "name": "ipython",
    "version": 3
   },
   "file_extension": ".py",
   "mimetype": "text/x-python",
   "name": "python",
   "nbconvert_exporter": "python",
   "pygments_lexer": "ipython3",
   "version": "3.8.5"
  }
 },
 "nbformat": 4,
 "nbformat_minor": 4
}
