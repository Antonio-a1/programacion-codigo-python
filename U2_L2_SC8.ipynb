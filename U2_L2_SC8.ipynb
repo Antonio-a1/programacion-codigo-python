{
 "cells": [
  {
   "cell_type": "markdown",
   "metadata": {},
   "source": [
    "### Unidad 2 - Lección 2: *Iteraciones*\n",
    "\n",
    "Comprensión de listas: Una herramienta útil dentro de Python donde se emplean listas + ciclos"
   ]
  },
  {
   "cell_type": "markdown",
   "metadata": {},
   "source": [
    "La comprensión de listas ([list comprehensions](https://docs.python.org/2/tutorial/datastructures.html#list-comprehensions)) es una forma concisa de crear listas a partir de otras listas (o algunos tipos como _range_). Además, suelen ser más fáciles de entender/leer instrucciones de esta forma que empleando ciclos _while/for_"
   ]
  },
  {
   "cell_type": "code",
   "execution_count": null,
   "metadata": {},
   "outputs": [],
   "source": [
    "# copy values using a for from one list to another\n",
    "list_number = [1, 2, 3, 4, 5]\n",
    "list_result = []\n",
    "\n",
    "for index in list_number:\n",
    "  list_result.append(index)\n",
    "\n",
    "print(list_result)\n",
    "\n",
    "# remember: list_result = list_number.copy() is a better way"
   ]
  },
  {
   "cell_type": "code",
   "execution_count": null,
   "metadata": {},
   "outputs": [],
   "source": [
    "# reset list_result \n",
    "list_result = []\n",
    "print(list_result)"
   ]
  },
  {
   "cell_type": "code",
   "execution_count": null,
   "metadata": {},
   "outputs": [],
   "source": [
    "# copy values from list_number to list_number using list comprehension\n",
    "list_result = [index for index in list_number]\n",
    "print(list_result)"
   ]
  },
  {
   "cell_type": "code",
   "execution_count": null,
   "metadata": {},
   "outputs": [],
   "source": [
    "# list comprehension for a string\n",
    "name = 'Python'\n",
    "[letter for letter in name]"
   ]
  },
  {
   "cell_type": "code",
   "execution_count": null,
   "metadata": {},
   "outputs": [],
   "source": [
    "# using regular for, get all even numbers from [0 to 40) ans store them into a list\n",
    "evens = []\n",
    "for number in range(40):\n",
    "  if number%2 == 0:\n",
    "    evens.append(number)\n",
    "print(evens)"
   ]
  },
  {
   "cell_type": "code",
   "execution_count": null,
   "metadata": {},
   "outputs": [],
   "source": [
    "# same previous operation, using list comprehension\n",
    "[number for number in range(40) if number % 2 == 0]"
   ]
  },
  {
   "cell_type": "code",
   "execution_count": null,
   "metadata": {},
   "outputs": [],
   "source": [
    "# usage of if/else in list comprehension\n",
    "[f'{number} es par' if number % 2 == 0 else f'{number} es impar' for number in range(10)]"
   ]
  },
  {
   "cell_type": "code",
   "execution_count": null,
   "metadata": {},
   "outputs": [],
   "source": [
    "# using the implicit return + if sentence in the comprehension\n",
    "list_numbers = [number**2 for number in range(0, 40) if number%2 == 0]\n",
    "print(list_numbers)"
   ]
  },
  {
   "cell_type": "code",
   "execution_count": null,
   "metadata": {},
   "outputs": [],
   "source": [
    "# (power of 2) of multiples to 2 and 3 at the same time in range(1, 40)\n",
    "[(number, pow(number, 2)) for number in range(1, 40) if number % 2 == 0 if number % 3 == 0]"
   ]
  },
  {
   "cell_type": "code",
   "execution_count": null,
   "metadata": {},
   "outputs": [],
   "source": [
    "# to code the multiplication table exercise using the for\n",
    "for value_i in range(1, 13):\n",
    "  for value_j in range(1, 13):\n",
    "    print(f'{value_i}x{value_j} = {value_i*value_j}')"
   ]
  },
  {
   "cell_type": "code",
   "execution_count": null,
   "metadata": {},
   "outputs": [],
   "source": [
    "# multiplication table using double comprehension\n",
    "table = [print(f'{value_i}x{value_j} = {value_i*value_j}') for value_i in range(1, 13) for value_j in range(1, 13)]"
   ]
  }
 ],
 "metadata": {
  "kernelspec": {
   "display_name": "Python 3",
   "language": "python",
   "name": "python3"
  },
  "language_info": {
   "codemirror_mode": {
    "name": "ipython",
    "version": 3
   },
   "file_extension": ".py",
   "mimetype": "text/x-python",
   "name": "python",
   "nbconvert_exporter": "python",
   "pygments_lexer": "ipython3",
   "version": "3.8.5"
  }
 },
 "nbformat": 4,
 "nbformat_minor": 4
}
