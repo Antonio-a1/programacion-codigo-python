{
 "cells": [
  {
   "cell_type": "markdown",
   "metadata": {},
   "source": [
    "### Unidad 3 - Lección 1: *Hablemos de funciones*\n",
    "\n",
    "¡Funciones hechas por tí!: Construcción de funciones de forma simple, con/sin valores de retorno y con/sin parámetros"
   ]
  },
  {
   "cell_type": "code",
   "execution_count": null,
   "metadata": {},
   "outputs": [],
   "source": [
    "# define a single function hello to say hi\n",
    "def hello():\n",
    "  print('Quiubo')"
   ]
  },
  {
   "cell_type": "code",
   "execution_count": null,
   "metadata": {},
   "outputs": [],
   "source": [
    "# call the function hello\n",
    "hello()"
   ]
  },
  {
   "cell_type": "code",
   "execution_count": null,
   "metadata": {},
   "outputs": [],
   "source": [
    "# define the function hello, passing a parameter\n",
    "def hello(name):\n",
    "  print(f'Hola {name}')"
   ]
  },
  {
   "cell_type": "code",
   "execution_count": null,
   "metadata": {},
   "outputs": [],
   "source": [
    "# call the function using a parameter\n",
    "hello('Platón')"
   ]
  },
  {
   "cell_type": "code",
   "execution_count": null,
   "metadata": {},
   "outputs": [],
   "source": [
    "# define a function to read input from user and count the number of vowels on it\n",
    "def check_name():\n",
    "  name_original = input('¿Cuál es tu nombre?')\n",
    "  name = name_original.lower()\n",
    "  vowel_counts = dict()\n",
    "  \n",
    "  for vowel in \"aeiou\":\n",
    "    count = name.count(vowel)\n",
    "    vowel_counts[vowel] = count\n",
    "    \n",
    "  print(f'La distribución de vocales de \\'{name_original}\\' es:')\n",
    "  \n",
    "  for key, value in vowel_counts.items():\n",
    "    print(f'{value} la letra \\'{key}\\'')"
   ]
  },
  {
   "cell_type": "code",
   "execution_count": null,
   "metadata": {},
   "outputs": [],
   "source": [
    "# call the function\n",
    "check_name()"
   ]
  },
  {
   "cell_type": "code",
   "execution_count": null,
   "metadata": {},
   "outputs": [],
   "source": [
    "# define the same function than before, but using a parameter\n",
    "def check_name(name):\n",
    "  name_original = name\n",
    "  name = name_original.lower()\n",
    "  vowel_counts = dict()\n",
    "  \n",
    "  for vowel in \"aeiou\":\n",
    "    count = name.count(vowel)\n",
    "    vowel_counts[vowel] = count\n",
    "    \n",
    "  print(f'La distribución de vocales de \\'{name_original}\\' es:')\n",
    "  \n",
    "  for key, value in vowel_counts.items():\n",
    "    print(f'{value} la letra \\'{key}\\'')"
   ]
  },
  {
   "cell_type": "code",
   "execution_count": null,
   "metadata": {},
   "outputs": [],
   "source": [
    "# call function with a parameter\n",
    "check_name('París')"
   ]
  },
  {
   "cell_type": "code",
   "execution_count": null,
   "metadata": {},
   "outputs": [],
   "source": [
    "# call the function for a list of names\n",
    "list_names = ['Isabella', 'Camila', 'Scooby', 'Chispa']\n",
    "for name in list_names:\n",
    "  check_name(name)"
   ]
  },
  {
   "cell_type": "code",
   "execution_count": null,
   "metadata": {},
   "outputs": [],
   "source": [
    "# create a function to check if a number is even or odd\n",
    "def is_even(x):\n",
    "  if x % 2 == 0:\n",
    "    return True\n",
    "  return False"
   ]
  },
  {
   "cell_type": "code",
   "execution_count": null,
   "metadata": {},
   "outputs": [],
   "source": [
    "# call with different inputs\n",
    "for number in range(2, 6):\n",
    "  print(is_even(number))"
   ]
  },
  {
   "cell_type": "code",
   "execution_count": null,
   "metadata": {},
   "outputs": [],
   "source": [
    "# what happens with a different input?\n",
    "is_even((9,8))"
   ]
  },
  {
   "cell_type": "code",
   "execution_count": null,
   "metadata": {},
   "outputs": [],
   "source": [
    "# define the previous function but using type hint\n",
    "def is_even(number: int) -> bool:\n",
    "  \"\"\"\n",
    "  Given a number, determine if is even or odd\n",
    "  \"\"\"\n",
    "  if number % 2 == 0:\n",
    "    return True\n",
    "  else:\n",
    "    return False"
   ]
  },
  {
   "cell_type": "markdown",
   "metadata": {},
   "source": [
    "Para más información de _pistas de tipo_ (type hint) puedes revisar la [documentación oficial](https://www.python.org/dev/peps/pep-0484/)"
   ]
  },
  {
   "cell_type": "code",
   "execution_count": null,
   "metadata": {},
   "outputs": [],
   "source": [
    "# call with different inputs\n",
    "for number in range(2, 6):\n",
    "  print(is_even(number))"
   ]
  },
  {
   "cell_type": "code",
   "execution_count": null,
   "metadata": {},
   "outputs": [],
   "source": [
    "# try an empty input\n",
    "is_even()"
   ]
  },
  {
   "cell_type": "markdown",
   "metadata": {},
   "source": [
    "Visitemos [Github](https://github.com) e integremos una función.\n",
    "Github es una plataforma que permite crear repositorios de código colaborativo"
   ]
  },
  {
   "cell_type": "code",
   "execution_count": null,
   "metadata": {},
   "outputs": [],
   "source": [
    "def roman_to_int(roman: str) -> int:\n",
    "    \"\"\"\n",
    "    LeetCode No. 13 Roman to Integer\n",
    "    Given a roman numeral, convert it to an integer.\n",
    "    Input is guaranteed to be within the range from 1 to 3999.\n",
    "    https://en.wikipedia.org/wiki/Roman_numerals\n",
    "    >>> tests = {\"III\": 3, \"CLIV\": 154, \"MIX\": 1009, \"MMD\": 2500, \"MMMCMXCIX\": 3999}\n",
    "    >>> all(roman_to_int(key) == value for key, value in tests.items())\n",
    "    True\n",
    "    \"\"\"\n",
    "    vals = {\"I\": 1, \"V\": 5, \"X\": 10, \"L\": 50, \"C\": 100, \"D\": 500, \"M\": 1000}\n",
    "    total = 0\n",
    "    place = 0\n",
    "    while place < len(roman):\n",
    "        if (place + 1 < len(roman)) and (vals[roman[place]] < vals[roman[place + 1]]):\n",
    "            total += vals[roman[place + 1]] - vals[roman[place]]\n",
    "            place += 2\n",
    "        else:\n",
    "            total += vals[roman[place]]\n",
    "            place += 1\n",
    "    return total"
   ]
  },
  {
   "cell_type": "code",
   "execution_count": null,
   "metadata": {},
   "outputs": [],
   "source": [
    "import random\n",
    "\n",
    "print(random.randint(1, 3999))"
   ]
  },
  {
   "cell_type": "code",
   "execution_count": null,
   "metadata": {},
   "outputs": [],
   "source": [
    "roman_to_int(\"MDCCCLXXXIX\")"
   ]
  }
 ],
 "metadata": {
  "kernelspec": {
   "display_name": "Python 3",
   "language": "python",
   "name": "python3"
  },
  "language_info": {
   "codemirror_mode": {
    "name": "ipython",
    "version": 3
   },
   "file_extension": ".py",
   "mimetype": "text/x-python",
   "name": "python",
   "nbconvert_exporter": "python",
   "pygments_lexer": "ipython3",
   "version": "3.8.5"
  }
 },
 "nbformat": 4,
 "nbformat_minor": 4
}
