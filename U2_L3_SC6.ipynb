{
 "cells": [
  {
   "cell_type": "markdown",
   "metadata": {},
   "source": [
    "### Unidad 2 - Lección 3: *Colecciones e Iteraciones*\n",
    "\n",
    "Código: String, Listas, Tuplas y Conjuntos: ¿Qué hacer con todas las colecciones?"
   ]
  },
  {
   "cell_type": "code",
   "execution_count": null,
   "metadata": {},
   "outputs": [],
   "source": [
    "import datetime\n",
    "\n",
    "datetime.date.today().strftime(\"Happy %A!\")"
   ]
  },
  {
   "cell_type": "markdown",
   "metadata": {},
   "source": [
    "**Fragmento de _El principito_ (Antoine de Saint-Exupéry)**"
   ]
  },
  {
   "cell_type": "code",
   "execution_count": null,
   "metadata": {},
   "outputs": [],
   "source": [
    "text = '''Viví así, solo, nadie con quien poder hablar verdaderamente, hasta cuando hace seis años tuve una avería en el desierto de Sahara. Algo se había estropeado en el motor. Como no llevaba conmigo ni mecánico ni pasajero alguno, me dispuse a realizar, yo solo, una reparación difícil. Era para mí una cuestión de vida o muerte, pues apenas tenía agua de beber para ocho días.\n",
    "\n",
    "La primera noche me dormí sobre la arena, a unas mil millas de distancia del lugar habitado más próximo. Estaba más aislado que un náufrago en una balsa en medio del océano. Imagínense, pues, mi sorpresa cuando al amanecer me despertó una extraña vocecita que decía:\n",
    "\n",
    "- ¡Por favor... píntame un cordero!\n",
    "-¿Eh?\n",
    "-¡Píntame un cordero!\n",
    "\t\n",
    "Me puse en pie de un salto como herido por el rayo. Me froté los ojos. Miré a mi alrededor. Vi a un extraordinario muchachito que me miraba gravemente. Ahí tienen el mejor retrato que más tarde logré hacer de él, aunque mi dibujo, ciertamente es menos encantador que el modelo. Pero no es mía la culpa. Las personas mayores me desanimaron de mi carrera de pintor a la edad de seis años y no había aprendido a dibujar otra cosa que boas cerradas y boas abiertas.\n",
    "\n",
    " Miré, pues, aquella aparición con los ojos redondos de admiración. No hay que olvidar que me encontraba a unas mil millas de distancia del lugar habitado más próximo. Y ahora bien, el muchachito no me parecía ni perdido, ni muerto de cansancio, de hambre, de sed o de miedo. No tenía en absoluto la apariencia de un niño perdido en el desierto, a mil millas de distancia del lugar habitado más próximo. Cuando logré, por fin, articular palabra, le dije:\n",
    "\n",
    "- Pero… ¿qué haces tú por aquí?\n",
    "\n",
    "Y él respondió entonces, suavemente, como algo muy importante:\n",
    "\n",
    "-¡Por favor… píntame un cordero!\n",
    "\n",
    "Cuando el misterio es demasiado impresionante, es imposible desobedecer. Por absurdo que aquello me pareciera, a mil millas de distancia de todo lugar habitado y en peligro de muerte, saqué de mi bolsillo una hoja de papel y una pluma fuente. Recordé que yo había estudiado especialmente geografía, historia, cálculo y gramática y le dije al muchachito (ya un poco malhumorado), que no sabía dibujar.\n",
    "\n",
    "- No importa - me respondió-, píntame un cordero!\n",
    "\n",
    "Como nunca había dibujado un cordero, rehice para él uno de los dos únicos dibujos que yo era capaz de realizar: el de la serpiente boa cerrada. Y quedé estupefacto cuando oí decir al hombrecito:\n",
    "\n",
    "- ¡No, no! Yo no quiero un elefante en una serpiente. La serpiente es muy peligrosa y el elefante ocupa mucho sitio. En mi tierra es todo muy pequeño. Necesito un cordero. Píntame un cordero.\n",
    "Dibujé un cordero. Lo miró atentamente y dijo:\n",
    " -¡No! Este está ya muy enfermo. Haz otro.\n",
    "\n",
    "Volví a dibujar.\n",
    "\n",
    " Mi amigo sonrió dulcemente, con indulgencia.\n",
    "\n",
    "-¿Ves? Esto no es un cordero, es un carnero. Tiene cuernos…\n",
    "Rehice nuevamente mi dibujo: fue rechazado igual que los anteriores. \n",
    "\n",
    "-Este es demasiado viejo. Quiero un cordero que viva mucho tiempo. \t\n",
    "\t\n",
    "\t\n",
    "Falto ya de paciencia y deseoso de comenzar a desmontar el motor, garrapateé rápidamente este dibujo, se lo enseñé, y le agregué:\n",
    "\n",
    "  -Esta es la caja. El cordero que quieres está adentro. Con gran sorpresa mía el rostro de mi joven juez se iluminó:\n",
    "\n",
    "-¡Así es como yo lo quería! ¿Crees que sea necesario mucha hierba para este cordero?\n",
    "-¿Por qué?\n",
    "-Porque en mi tierra es todo tan pequeño…\n",
    "Se inclinó hacia el dibujo y exclamó:\n",
    "\n",
    "-¡Bueno, no tan pequeño...! Está dormido...\n",
    "\n",
    "Y así fue como conocí al principito.'''"
   ]
  },
  {
   "cell_type": "code",
   "execution_count": null,
   "metadata": {},
   "outputs": [],
   "source": [
    "print(text)"
   ]
  },
  {
   "cell_type": "code",
   "execution_count": null,
   "metadata": {},
   "outputs": [],
   "source": [
    "# remove the punctuation symbols\n",
    "import string\n",
    "\n",
    "table = str.maketrans(dict.fromkeys(string.punctuation))  # OR {key: None for key in string.punctuation}\n",
    "text = text.translate(table)\n",
    "print(text)"
   ]
  },
  {
   "cell_type": "code",
   "execution_count": null,
   "metadata": {},
   "outputs": [],
   "source": [
    "# remove the end-of-line symbols\n",
    "text = text.replace('\\r', '').replace('\\n', '').replace('\\t', '')\n",
    "print(text)"
   ]
  },
  {
   "cell_type": "code",
   "execution_count": null,
   "metadata": {},
   "outputs": [],
   "source": [
    "print(f'número de caracteres: {len(text)}')"
   ]
  },
  {
   "cell_type": "code",
   "execution_count": null,
   "metadata": {},
   "outputs": [],
   "source": [
    "# split text into words\n",
    "text_list = text.split()\n",
    "print(text_list)"
   ]
  },
  {
   "cell_type": "code",
   "execution_count": null,
   "metadata": {},
   "outputs": [],
   "source": [
    "print(f'número de palabras: {len(text_list)}')"
   ]
  },
  {
   "cell_type": "code",
   "execution_count": null,
   "metadata": {},
   "outputs": [],
   "source": [
    "# now, using a tuple\n",
    "text_tuple = tuple(text_list)\n",
    "print(text_tuple)"
   ]
  },
  {
   "cell_type": "code",
   "execution_count": null,
   "metadata": {},
   "outputs": [],
   "source": [
    "# count some values\n",
    "text_tuple.count('el'), text_tuple.count('a'), text_tuple.count('nada')"
   ]
  },
  {
   "cell_type": "code",
   "execution_count": null,
   "metadata": {},
   "outputs": [],
   "source": [
    "# now using a set\n",
    "text_set = set(text_list)\n",
    "print(text_set)"
   ]
  },
  {
   "cell_type": "code",
   "execution_count": null,
   "metadata": {},
   "outputs": [],
   "source": [
    "print(f'número de palabras: {len(text_set)}')"
   ]
  },
  {
   "cell_type": "code",
   "execution_count": null,
   "metadata": {},
   "outputs": [],
   "source": [
    "# playing with other set\n",
    "my_set = set(['en', 'a', 'nada'])"
   ]
  },
  {
   "cell_type": "code",
   "execution_count": null,
   "metadata": {},
   "outputs": [],
   "source": [
    "# intersection\n",
    "text_set.intersection(my_set)"
   ]
  },
  {
   "cell_type": "code",
   "execution_count": null,
   "metadata": {},
   "outputs": [],
   "source": [
    "# difference\n",
    "text_tmp = text_set.difference(my_set)\n",
    "print(f'número de palabras: {len(text_tmp)}')"
   ]
  }
 ],
 "metadata": {
  "kernelspec": {
   "display_name": "Python 3",
   "language": "python",
   "name": "python3"
  },
  "language_info": {
   "codemirror_mode": {
    "name": "ipython",
    "version": 3
   },
   "file_extension": ".py",
   "mimetype": "text/x-python",
   "name": "python",
   "nbconvert_exporter": "python",
   "pygments_lexer": "ipython3",
   "version": "3.8.5"
  }
 },
 "nbformat": 4,
 "nbformat_minor": 4
}
