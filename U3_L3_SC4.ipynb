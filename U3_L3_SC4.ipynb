{
 "cells": [
  {
   "cell_type": "markdown",
   "metadata": {},
   "source": [
    "### Unidad 3 - Lección 3: *Muchas opciones con Python*\n",
    "\n",
    "PIL & OpenCV: herramientas que son la norma en el mundo de las imágenes en Python"
   ]
  },
  {
   "cell_type": "code",
   "execution_count": null,
   "metadata": {},
   "outputs": [],
   "source": [
    "%matplotlib inline"
   ]
  },
  {
   "cell_type": "code",
   "execution_count": null,
   "metadata": {},
   "outputs": [],
   "source": [
    "#!pip install pillow"
   ]
  },
  {
   "cell_type": "code",
   "execution_count": null,
   "metadata": {},
   "outputs": [],
   "source": [
    "from PIL import Image\n",
    "import sys\n",
    "\n",
    "# set image name & load it!\n",
    "image = 'Machu_Picchu,_Peru.jpg'\n",
    "\n",
    "try:\n",
    "  img_object = Image.open(image)\n",
    "\n",
    "except IOError:\n",
    "  print(\"Unable to load image\")\n",
    "  sys.exit(1)\n",
    "    \n",
    "img_object  # use .show() outside jupyter notebook"
   ]
  },
  {
   "cell_type": "code",
   "execution_count": null,
   "metadata": {},
   "outputs": [],
   "source": [
    "from PIL import ImageDraw, ImageFont\n",
    "\n",
    "idraw = ImageDraw.Draw(img_object)\n",
    "text = \"Machu Picchu es una de las 7 Nuevas Maravillas del Mundo Moderno\"\n",
    "\n",
    "font = ImageFont.truetype(\"arial.ttf\", size=36)\n",
    "idraw.text((150, 180), text, font=font)\n",
    " \n",
    "img_object"
   ]
  },
  {
   "cell_type": "code",
   "execution_count": null,
   "metadata": {},
   "outputs": [],
   "source": [
    "#!pip install opencv-python"
   ]
  },
  {
   "cell_type": "code",
   "execution_count": null,
   "metadata": {},
   "outputs": [],
   "source": [
    "import numpy as np\n",
    "import cv2\n",
    "\n",
    "# load the cascade\n",
    "face_cascade = cv2.CascadeClassifier(cv2.data.haarcascades +'haarcascade_frontalface_default.xml')\n",
    "cap = cv2.VideoCapture(0)\n",
    "\n",
    "while(True):\n",
    "  try:\n",
    "      # capture frame-by-frame\n",
    "      ret, frame = cap.read()\n",
    "\n",
    "      # our operations on the frame come here\n",
    "      gray = cv2.cvtColor(frame, cv2.COLOR_BGR2GRAY)\n",
    "\n",
    "      faces = face_cascade.detectMultiScale(gray, 1.1, 4)\n",
    "      \n",
    "      # draw a rectangle around the faces\n",
    "      for (x, y, w, h) in faces:\n",
    "        cv2.rectangle(frame, (x, y), (x+w, y+h), (0, 255, 0), 2)\n",
    "\n",
    "      # display the resulting frame\n",
    "      cv2.imshow('Video', frame)\n",
    "      \n",
    "      if cv2.waitKey(1) & 0xFF == ord('q'):\n",
    "          break\n",
    "  except Exception as error:\n",
    "    cap.release()\n",
    "    print(error)\n",
    "    break\n",
    "\n",
    "# when everything done, release the capture\n",
    "cap.release()\n",
    "cv2.destroyAllWindows()"
   ]
  }
 ],
 "metadata": {
  "kernelspec": {
   "display_name": "Python 3",
   "language": "python",
   "name": "python3"
  },
  "language_info": {
   "codemirror_mode": {
    "name": "ipython",
    "version": 3
   },
   "file_extension": ".py",
   "mimetype": "text/x-python",
   "name": "python",
   "nbconvert_exporter": "python",
   "pygments_lexer": "ipython3",
   "version": "3.8.5"
  }
 },
 "nbformat": 4,
 "nbformat_minor": 4
}
