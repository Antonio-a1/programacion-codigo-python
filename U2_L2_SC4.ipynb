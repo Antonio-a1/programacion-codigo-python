{
 "cells": [
  {
   "cell_type": "markdown",
   "metadata": {},
   "source": [
    "### Unidad 2 - Lección 2: *Iteraciones*\n",
    "\n",
    "Iterando ando (while): Utilización del _while_, _break_ y _continue_"
   ]
  },
  {
   "cell_type": "markdown",
   "metadata": {},
   "source": [
    "**Iterando con un índice**"
   ]
  },
  {
   "cell_type": "code",
   "execution_count": null,
   "metadata": {},
   "outputs": [],
   "source": [
    "# using while to print from 0 to 1\n",
    "index = 0\n",
    "while index < 2:\n",
    "  print(f'index: {index}')\n",
    "  index = index + 1\n",
    "print('end')"
   ]
  },
  {
   "cell_type": "code",
   "execution_count": null,
   "metadata": {},
   "outputs": [],
   "source": [
    "# using while to print from 0 to 99\n",
    "index = 0\n",
    "while index < 100:\n",
    "  print(f'index: {index}')\n",
    "  index = index + 1\n",
    "print('end')"
   ]
  },
  {
   "cell_type": "code",
   "execution_count": null,
   "metadata": {},
   "outputs": [],
   "source": [
    "# using while to create an infinite loop\n",
    "index = 0\n",
    "while index < 2:\n",
    "  print(f'index: {index}')\n",
    "index = index + 1\n",
    "print('end')"
   ]
  },
  {
   "cell_type": "markdown",
   "metadata": {},
   "source": [
    "**Break y continue**"
   ]
  },
  {
   "cell_type": "code",
   "execution_count": null,
   "metadata": {},
   "outputs": [],
   "source": [
    "# using the break statement after a print instruction inside a while\n",
    "while True:\n",
    "  print('*', end='-')\n",
    "  break"
   ]
  },
  {
   "cell_type": "code",
   "execution_count": null,
   "metadata": {},
   "outputs": [],
   "source": [
    "# using the break statement before a print instruction inside a while\n",
    "while True:\n",
    "  break\n",
    "  print('*', end='-')"
   ]
  },
  {
   "cell_type": "code",
   "execution_count": null,
   "metadata": {},
   "outputs": [],
   "source": [
    "# using the continue statement before a print instruction inside a while (infinite loop)\n",
    "while True:\n",
    "  continue\n",
    "  print('*', end='-')"
   ]
  },
  {
   "cell_type": "code",
   "execution_count": null,
   "metadata": {},
   "outputs": [],
   "source": [
    "# to use the while True until reach a condition\n",
    "index = 0\n",
    "\n",
    "while True:\n",
    "  print(f'index: {index}')\n",
    "  if index == 0:\n",
    "    break\n",
    "  index += 1\n",
    "print('end')"
   ]
  },
  {
   "cell_type": "code",
   "execution_count": null,
   "metadata": {},
   "outputs": [],
   "source": [
    "# to use a while with a continue (inside a conditional)\n",
    "index = 0\n",
    "\n",
    "while index < 5:\n",
    "  print(f'index antes: {index}', end=' - ')\n",
    "  index += 1\n",
    "  if index >= 3:\n",
    "    print()\n",
    "    continue\n",
    "  print(f'index después: {index}')\n",
    "print('end')"
   ]
  },
  {
   "cell_type": "markdown",
   "metadata": {},
   "source": [
    "**Más operaciones con el _while_**"
   ]
  },
  {
   "cell_type": "code",
   "execution_count": null,
   "metadata": {},
   "outputs": [],
   "source": [
    "# loop while there are \"values\" in a list\n",
    "list_names = ['Anna', 'Javier', 'Orianna', 'Humberto']\n",
    "\n",
    "while list_names:\n",
    "  print(list_names, end= ' -> ')\n",
    "  list_names.pop()\n",
    "  print(list_names)"
   ]
  },
  {
   "cell_type": "code",
   "execution_count": null,
   "metadata": {},
   "outputs": [],
   "source": [
    "if not []:\n",
    "  print('Hola')"
   ]
  },
  {
   "cell_type": "code",
   "execution_count": null,
   "metadata": {},
   "outputs": [],
   "source": [
    "# while in one line\n",
    "index = 0\n",
    "\n",
    "while index < 5: index += 1; print(f'index: {index}')"
   ]
  },
  {
   "cell_type": "code",
   "execution_count": null,
   "metadata": {
    "scrolled": true
   },
   "outputs": [],
   "source": [
    "# print a multiplication table from 1 to 12\n",
    "value_i = 1\n",
    "value_j = 1\n",
    "\n",
    "while value_i <= 2:\n",
    "  while value_j <= 2:\n",
    "    print(f'{value_i}x{value_j} = {value_i*value_j}')\n",
    "    value_j += 1\n",
    "  value_j = 1\n",
    "  value_i += 1"
   ]
  }
 ],
 "metadata": {
  "kernelspec": {
   "display_name": "Python 3",
   "language": "python",
   "name": "python3"
  },
  "language_info": {
   "codemirror_mode": {
    "name": "ipython",
    "version": 3
   },
   "file_extension": ".py",
   "mimetype": "text/x-python",
   "name": "python",
   "nbconvert_exporter": "python",
   "pygments_lexer": "ipython3",
   "version": "3.8.5"
  }
 },
 "nbformat": 4,
 "nbformat_minor": 4
}
