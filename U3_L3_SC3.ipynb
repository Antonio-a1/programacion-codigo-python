{
 "cells": [
  {
   "cell_type": "markdown",
   "metadata": {},
   "source": [
    "### Unidad 3 - Lección 3: *Muchas opciones con Python*\n",
    "\n",
    "Matplotlib & Seaborn: herramientas básicas para la visualización de datos en Python"
   ]
  },
  {
   "cell_type": "code",
   "execution_count": null,
   "metadata": {},
   "outputs": [],
   "source": [
    "#!pip install matplotlib"
   ]
  },
  {
   "cell_type": "markdown",
   "metadata": {},
   "source": [
    "Revisemos un dato estadístico: https://www.statista.com/statistics/272014/global-social-networks-ranked-by-number-of-users/"
   ]
  },
  {
   "cell_type": "code",
   "execution_count": null,
   "metadata": {},
   "outputs": [],
   "source": [
    "import matplotlib.pyplot as plt"
   ]
  },
  {
   "cell_type": "code",
   "execution_count": null,
   "metadata": {},
   "outputs": [],
   "source": [
    "# copy same data from link\n",
    "labels = 'Facebook', 'Youtube', 'WhatsApp', 'Facebook Messenger', 'Weixin / WeChat', 'Instagram', 'TikTok', 'QQ', 'Sina Weibo', 'QZone', 'Reddit', 'Kuaishou', 'Snapchat', 'Pinterest', 'Twitter'\n",
    "sizes = [2603, 2000, 2000, 1300, 1203, 1082, 800, 694, 550, 517, 430, 400, 397, 367, 326]\n",
    "explode = (0.1, 0.1, 0.1, 0.1, 0.1, 0.1, 0.1, 0.1, 0.1, 0.1, 0.1, 0.1, 0.1, 0.1, 0.1)  # for an exploding effect"
   ]
  },
  {
   "cell_type": "code",
   "execution_count": null,
   "metadata": {},
   "outputs": [],
   "source": [
    "fig1, ax1 = plt.subplots()\n",
    "ax1.invert_yaxis()\n",
    "ax1.barh(labels, sizes)"
   ]
  },
  {
   "cell_type": "code",
   "execution_count": null,
   "metadata": {},
   "outputs": [],
   "source": [
    "# pie chart, where the slices will be ordered and plotted counter-clockwise:\n",
    "_, ax1 = plt.subplots()\n",
    "ax1.pie(sizes, explode=explode, labels=labels, autopct='%1.2f%%', shadow=True, startangle=90, radius=2)\n",
    "plt.show()"
   ]
  },
  {
   "cell_type": "code",
   "execution_count": null,
   "metadata": {},
   "outputs": [],
   "source": [
    "import pandas as pd\n",
    "\n",
    "# store into a Panda data frame\n",
    "pd_networks = pd.DataFrame({'name':labels, 'number in millions':sizes})\n",
    "print(pd_networks)"
   ]
  },
  {
   "cell_type": "code",
   "execution_count": null,
   "metadata": {},
   "outputs": [],
   "source": [
    "#!pip install seaborn"
   ]
  },
  {
   "cell_type": "code",
   "execution_count": null,
   "metadata": {},
   "outputs": [],
   "source": [
    "import seaborn as sns\n",
    "\n",
    "sns.set_style(\"white\")\n",
    "sns.barplot(y=\"name\", x=\"number in millions\", data=pd_networks, orient=\"h\")"
   ]
  },
  {
   "cell_type": "code",
   "execution_count": null,
   "metadata": {
    "scrolled": false
   },
   "outputs": [],
   "source": [
    "sns.set_style(\"dark\")\n",
    "sns.barplot(y=\"name\", x=\"number in millions\", data=pd_networks, orient=\"h\")"
   ]
  },
  {
   "cell_type": "code",
   "execution_count": null,
   "metadata": {},
   "outputs": [],
   "source": [
    "sns.set_theme(style=\"whitegrid\")\n",
    "sns.barplot(y=\"name\", x=\"number in millions\", data=pd_networks, orient=\"h\")"
   ]
  },
  {
   "cell_type": "code",
   "execution_count": null,
   "metadata": {},
   "outputs": [],
   "source": [
    "g = sns.barplot(x=\"name\", y=\"number in millions\", linewidth=2.5, facecolor=(1, 1, 1, 0), edgecolor=\".2\", data=pd_networks)\n",
    "g.set_xticklabels(g.get_xticklabels(), rotation=45)\n",
    "plt.show()"
   ]
  }
 ],
 "metadata": {
  "kernelspec": {
   "display_name": "Python 3",
   "language": "python",
   "name": "python3"
  },
  "language_info": {
   "codemirror_mode": {
    "name": "ipython",
    "version": 3
   },
   "file_extension": ".py",
   "mimetype": "text/x-python",
   "name": "python",
   "nbconvert_exporter": "python",
   "pygments_lexer": "ipython3",
   "version": "3.8.5"
  }
 },
 "nbformat": 4,
 "nbformat_minor": 4
}
