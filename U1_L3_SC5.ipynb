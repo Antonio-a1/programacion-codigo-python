{
 "cells": [
  {
   "cell_type": "markdown",
   "metadata": {},
   "source": [
    "### Unidad 1 - Lección 3: *Estructuras básicas*\n",
    "\n",
    "Mi primera solución en Python: Tu programa lanzará un dado y deberá solicitar un número. Con el número, se deben imprimir al menos 3 mensajes:\n",
    "\n",
    "1. Acierto: El número introducido **coincide** con el número lanzado\n",
    "2. No-Acierto: El número introducido **no coincide** con el número lanzado\n",
    "3. Fuera de Rango: El número introducido está **fuera del rango** posible para un dado convencional\n",
    "\n",
    "*Puedes simular el lanzamiento de un dado con la función **randint** provista por el módulo [random](https://docs.python.org/3/library/random.html) de Python*"
   ]
  },
  {
   "cell_type": "code",
   "execution_count": null,
   "metadata": {
    "scrolled": true
   },
   "outputs": [],
   "source": []
  }
 ],
 "metadata": {
  "kernelspec": {
   "display_name": "Python 3",
   "language": "python",
   "name": "python3"
  },
  "language_info": {
   "codemirror_mode": {
    "name": "ipython",
    "version": 3
   },
   "file_extension": ".py",
   "mimetype": "text/x-python",
   "name": "python",
   "nbconvert_exporter": "python",
   "pygments_lexer": "ipython3",
   "version": "3.8.5"
  }
 },
 "nbformat": 4,
 "nbformat_minor": 4
}
